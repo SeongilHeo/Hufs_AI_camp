{
  "nbformat": 4,
  "nbformat_minor": 0,
  "metadata": {
    "colab": {
      "name": "Day1-3. perceptron.ipynb",
      "provenance": [],
      "collapsed_sections": [],
      "include_colab_link": true
    },
    "kernelspec": {
      "name": "tesorflow2.0",
      "language": "python",
      "display_name": "TensorFlow CPU"
    },
    "language_info": {
      "codemirror_mode": {
        "name": "ipython",
        "version": 3
      },
      "file_extension": ".py",
      "mimetype": "text/x-python",
      "name": "python",
      "nbconvert_exporter": "python",
      "pygments_lexer": "ipython3",
      "version": "3.7.4"
    }
  },
  "cells": [
    {
      "cell_type": "markdown",
      "metadata": {
        "id": "view-in-github",
        "colab_type": "text"
      },
      "source": [
        "<a href=\"https://colab.research.google.com/github/SeongilHeo/hufs_ai_camp/blob/master/Day1_3_perceptron.ipynb\" target=\"_parent\"><img src=\"https://colab.research.google.com/assets/colab-badge.svg\" alt=\"Open In Colab\"/></a>"
      ]
    },
    {
      "cell_type": "markdown",
      "metadata": {
        "colab_type": "text",
        "id": "dUSsxNSK6cJR"
      },
      "source": [
        "#### Numpy로 퍼셉트론을 구현해보자.\n",
        "\n",
        "*   퍼셉트론으로 AND, NAND, OR 연산 구현해보도록 합니다.\n",
        "*   다층 퍼셉트론으로 XOR 연산 구현해보도록 합니다.\n",
        "*   본 코드는 '밑바닥부터 시작하는 딥러닝' 2장 예제 코드 입니다."
      ]
    },
    {
      "cell_type": "code",
      "metadata": {
        "colab_type": "code",
        "id": "OgJruQd06arZ",
        "colab": {}
      },
      "source": [
        "import numpy as np"
      ],
      "execution_count": null,
      "outputs": []
    },
    {
      "cell_type": "markdown",
      "metadata": {
        "colab_type": "text",
        "id": "6hRgKCVv6JJy"
      },
      "source": [
        "#### AND 연산 퍼셉트론 구현"
      ]
    },
    {
      "cell_type": "code",
      "metadata": {
        "colab_type": "code",
        "id": "lR15ICZ46H9c",
        "colab": {}
      },
      "source": [
        "def AND(x1, x2):\n",
        "    x = np.array([x1, x2])\n",
        "    w = np.array([0.5, 0.5])\n",
        "    b = -0.7\n",
        "    tmp =  np.sum(w * x) + b\n",
        "    if tmp <= 0:\n",
        "        return 0\n",
        "    else:\n",
        "        return 1\n",
        "    \n",
        "for xs in [(0, 0), (1, 0), (0, 1), (1, 1)]:\n",
        "    y = AND(xs[0], xs[1])\n",
        "    print(str(xs) + \" -> \" + str(y))"
      ],
      "execution_count": null,
      "outputs": []
    },
    {
      "cell_type": "markdown",
      "metadata": {
        "colab_type": "text",
        "id": "aM2XMs9x5zKl"
      },
      "source": [
        "#### NAND 연산 퍼셉트론 구현"
      ]
    },
    {
      "cell_type": "code",
      "metadata": {
        "colab_type": "code",
        "id": "E9CUg1-r5exE",
        "colab": {}
      },
      "source": [
        "def NAND(x1, x2):\n",
        "    x = np.array([x1, x2])\n",
        "    w = np.array([-0.5, -0.5])\n",
        "    b = 0.7\n",
        "    tmp =  np.sum(w * x) + b\n",
        "    if tmp <= 0:\n",
        "        return 0\n",
        "    else:\n",
        "        return 1\n",
        "    \n",
        "for xs in [(0, 0), (1, 0), (0, 1), (1, 1)]:\n",
        "    y = NAND(xs[0], xs[1])\n",
        "    print(str(xs) + \" -> \" + str(y))"
      ],
      "execution_count": null,
      "outputs": []
    },
    {
      "cell_type": "markdown",
      "metadata": {
        "colab_type": "text",
        "id": "ZMYtdgdO540L"
      },
      "source": [
        "#### OR 연산 퍼셉트론 구현"
      ]
    },
    {
      "cell_type": "code",
      "metadata": {
        "colab_type": "code",
        "id": "kgvr7fqx5exH",
        "colab": {}
      },
      "source": [
        "def OR(x1, x2):\n",
        "    x = np.array([x1, x2])\n",
        "    w = np.array([0.7, 0.7])\n",
        "    b = -0.5\n",
        "    tmp =  np.sum(w * x) + b\n",
        "    if tmp <= 0:\n",
        "        return 0\n",
        "    else:\n",
        "        return 1\n",
        "    \n",
        "for xs in [(0, 0), (1, 0), (0, 1), (1, 1)]:\n",
        "    y = OR(xs[0], xs[1])\n",
        "    print(str(xs) + \" -> \" + str(y))"
      ],
      "execution_count": null,
      "outputs": []
    },
    {
      "cell_type": "markdown",
      "metadata": {
        "colab_type": "text",
        "id": "i3R9-5Ug57hq"
      },
      "source": [
        "#### XOR 연산 다층 퍼셉트론 구현"
      ]
    },
    {
      "cell_type": "code",
      "metadata": {
        "colab_type": "code",
        "id": "fm9DNz9R5exK",
        "colab": {}
      },
      "source": [
        "def XOR(x1, x2):\n",
        "    s1 = NAND(x1, x2)\n",
        "    s2 = OR(x1, x2)\n",
        "    y = AND(s1, s2)\n",
        "    return y\n",
        "\n",
        "print(\"NAND, OR, AND\")\n",
        "for xs in [(0, 0), (1, 0), (0, 1), (1, 1)]:\n",
        "    y = XOR(xs[0], xs[1])\n",
        "    print(str(xs) + \" -> \" + str(y))"
      ],
      "execution_count": null,
      "outputs": []
    }
  ]
}