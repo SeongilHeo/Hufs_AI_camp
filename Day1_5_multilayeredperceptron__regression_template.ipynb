{
  "nbformat": 4,
  "nbformat_minor": 0,
  "metadata": {
    "kernelspec": {
      "display_name": "TensorFlow CPU",
      "language": "python",
      "name": "tesorflow2.0"
    },
    "language_info": {
      "codemirror_mode": {
        "name": "ipython",
        "version": 3
      },
      "file_extension": ".py",
      "mimetype": "text/x-python",
      "name": "python",
      "nbconvert_exporter": "python",
      "pygments_lexer": "ipython3",
      "version": "3.7.6"
    },
    "colab": {
      "name": "Day1-5. multilayeredperceptron__regression_template.ipynb",
      "provenance": [],
      "include_colab_link": true
    }
  },
  "cells": [
    {
      "cell_type": "markdown",
      "metadata": {
        "id": "view-in-github",
        "colab_type": "text"
      },
      "source": [
        "<a href=\"https://colab.research.google.com/github/SeongilHeo/hufs_ai_camp/blob/master/Day1_5_multilayeredperceptron__regression_template.ipynb\" target=\"_parent\"><img src=\"https://colab.research.google.com/assets/colab-badge.svg\" alt=\"Open In Colab\"/></a>"
      ]
    },
    {
      "cell_type": "markdown",
      "metadata": {
        "id": "cEt4NlEmIIPu",
        "colab_type": "text"
      },
      "source": [
        "## DNN Function Approximation Forward Pass 구현"
      ]
    },
    {
      "cell_type": "markdown",
      "metadata": {
        "id": "3uL1LF0NIIPw",
        "colab_type": "text"
      },
      "source": [
        "### 라이브러리 임포트"
      ]
    },
    {
      "cell_type": "code",
      "metadata": {
        "id": "5JkYNPOOIIPx",
        "colab_type": "code",
        "colab": {}
      },
      "source": [
        "import numpy as np\n",
        "import matplotlib.pyplot as plt"
      ],
      "execution_count": null,
      "outputs": []
    },
    {
      "cell_type": "markdown",
      "metadata": {
        "id": "5FvfNlQEIIP4",
        "colab_type": "text"
      },
      "source": [
        "#### Q. Activation Function을 정의하시오"
      ]
    },
    {
      "cell_type": "code",
      "metadata": {
        "id": "9b3arE84IIP5",
        "colab_type": "code",
        "colab": {}
      },
      "source": [
        "# Sigmoid Activation Function\n",
        "def activation_1(n):\n",
        "    # your code\n",
        "    return x\n",
        "\n",
        "# Identity Activation Function\n",
        "def activation_2(n):\n",
        "    # your code\n",
        "    return x"
      ],
      "execution_count": null,
      "outputs": []
    },
    {
      "cell_type": "markdown",
      "metadata": {
        "id": "e64VrIQGIIP-",
        "colab_type": "text"
      },
      "source": [
        "#### Q. 가중치와 편향을 정의하시오"
      ]
    },
    {
      "cell_type": "code",
      "metadata": {
        "id": "fE93KGAuIIP_",
        "colab_type": "code",
        "colab": {}
      },
      "source": [
        "p = np.arange(-2, 2, 0.01)\n",
        "p = p[np.newaxis, : ] # 입력 데이터는 (1, 400) 형태\n",
        "\n",
        "W1 = # your code\n",
        "b1 = # your code\n",
        "\n",
        "W2 = # your code\n",
        "b2 = # your code"
      ],
      "execution_count": null,
      "outputs": []
    },
    {
      "cell_type": "markdown",
      "metadata": {
        "id": "LFl_guYxIIQC",
        "colab_type": "text"
      },
      "source": [
        "#### Q. Forward Pass를 구현하시오."
      ]
    },
    {
      "cell_type": "code",
      "metadata": {
        "id": "6C0eWGN8IIQD",
        "colab_type": "code",
        "colab": {}
      },
      "source": [
        "# forward pass를 구현하시오 (Hint : np.dot 사용)\n",
        "a1 = # your code\n",
        "a2 = # your code\n",
        "\n",
        "plt.plot(p.flatten(), a2.flatten())\n",
        "plt.axis([-2, 2, -1, 3])\n",
        "plt.show()"
      ],
      "execution_count": null,
      "outputs": []
    }
  ]
}