{
  "nbformat": 4,
  "nbformat_minor": 0,
  "metadata": {
    "colab": {
      "name": "Day6-2. resnet_fashionmnist_classification.ipynb",
      "provenance": [],
      "private_outputs": true,
      "collapsed_sections": [],
      "include_colab_link": true
    },
    "kernelspec": {
      "display_name": "TensorFlow CPU",
      "language": "python",
      "name": "tesorflow2.0"
    },
    "language_info": {
      "codemirror_mode": {
        "name": "ipython",
        "version": 3
      },
      "file_extension": ".py",
      "mimetype": "text/x-python",
      "name": "python",
      "nbconvert_exporter": "python",
      "pygments_lexer": "ipython3",
      "version": "3.7.6"
    },
    "accelerator": "GPU"
  },
  "cells": [
    {
      "cell_type": "markdown",
      "metadata": {
        "id": "view-in-github",
        "colab_type": "text"
      },
      "source": [
        "<a href=\"https://colab.research.google.com/github/SeongilHeo/hufs_ai_camp/blob/master/Day6_2_resnet_fashionmnist_classification.ipynb\" target=\"_parent\"><img src=\"https://colab.research.google.com/assets/colab-badge.svg\" alt=\"Open In Colab\"/></a>"
      ]
    },
    {
      "cell_type": "markdown",
      "metadata": {
        "colab_type": "text",
        "id": "FbVhjPpzn6BM"
      },
      "source": [
        "## Fashion MNIST Classification 문제 (ResNet)"
      ]
    },
    {
      "cell_type": "markdown",
      "metadata": {
        "id": "Aray9L77eFT5",
        "colab_type": "text"
      },
      "source": [
        "### Tensorboard Extension 로드"
      ]
    },
    {
      "cell_type": "code",
      "metadata": {
        "id": "SEvJofzPeOq4",
        "colab_type": "code",
        "colab": {}
      },
      "source": [
        "%load_ext tensorboard"
      ],
      "execution_count": null,
      "outputs": []
    },
    {
      "cell_type": "markdown",
      "metadata": {
        "id": "dog9v2BZfs_y",
        "colab_type": "text"
      },
      "source": [
        ""
      ]
    },
    {
      "cell_type": "markdown",
      "metadata": {
        "id": "YVZjJ6bEePlK",
        "colab_type": "text"
      },
      "source": [
        "### 텐서플로와 다른 라이브러리 임포트"
      ]
    },
    {
      "cell_type": "code",
      "metadata": {
        "id": "AggmKrCZkZTG",
        "colab_type": "code",
        "colab": {}
      },
      "source": [
        "try:\n",
        "  # %tensorflow_version only exists in Colab.\n",
        "  %tensorflow_version 2.x\n",
        "except Exception:\n",
        "  pass"
      ],
      "execution_count": null,
      "outputs": []
    },
    {
      "cell_type": "markdown",
      "metadata": {
        "id": "gUhF2r64eT3g",
        "colab_type": "text"
      },
      "source": [
        "### 텐서플로와 다른 라이브러리 임포트"
      ]
    },
    {
      "cell_type": "code",
      "metadata": {
        "colab_type": "code",
        "id": "dzLKpmZICaWN",
        "colab": {}
      },
      "source": [
        "# tensorflow와 tf.keras를 임포트합니다\n",
        "import tensorflow as tf\n",
        "from tensorflow import keras\n",
        "\n",
        "# 헬퍼(helper) 라이브러리를 임포트합니다\n",
        "import numpy as np\n",
        "import matplotlib.pyplot as plt\n",
        "\n",
        "print(tf.__version__)"
      ],
      "execution_count": null,
      "outputs": []
    },
    {
      "cell_type": "markdown",
      "metadata": {
        "id": "9tCt8zfUeWJj",
        "colab_type": "text"
      },
      "source": [
        "### GPU 메모리 설정 (프로그램에서 필요한만큼만 할당하는 방식)"
      ]
    },
    {
      "cell_type": "code",
      "metadata": {
        "id": "pIA9LeoJkZTP",
        "colab_type": "code",
        "colab": {}
      },
      "source": [
        "# 런타임에서 할당하는데 필요한 양만큼의 GPU 메모리를 할당\n",
        "gpus = tf.config.experimental.list_physical_devices('GPU')\n",
        "if gpus:\n",
        "  try:\n",
        "    tf.config.experimental.set_memory_growth(gpus[0], True)\n",
        "  except RuntimeError as e:\n",
        "    # 프로그램 시작시에 메모리 증가가 설정되어야만 합니다\n",
        "    print(e)"
      ],
      "execution_count": null,
      "outputs": []
    },
    {
      "cell_type": "markdown",
      "metadata": {
        "colab_type": "text",
        "id": "yR0EdgrLCaWR"
      },
      "source": [
        "### 패션 MNIST 데이터셋 임포트하기"
      ]
    },
    {
      "cell_type": "markdown",
      "metadata": {
        "colab_type": "text",
        "id": "DLdCchMdCaWQ"
      },
      "source": [
        "load_data() 함수를 호출해서 Fashion MNIST 로딩 : 네 개의 넘파이(NumPy) 배열이 반환"
      ]
    },
    {
      "cell_type": "code",
      "metadata": {
        "colab_type": "code",
        "id": "7MqDQO0KCaWS",
        "colab": {}
      },
      "source": [
        "fashion_mnist = keras.datasets.fashion_mnist\n",
        "\n",
        "(train_images, train_labels), (test_images, test_labels) = fashion_mnist.load_data()"
      ],
      "execution_count": null,
      "outputs": []
    },
    {
      "cell_type": "code",
      "metadata": {
        "id": "1e4-TibpkZTY",
        "colab_type": "code",
        "colab": {}
      },
      "source": [
        "train_images = train_images.reshape(train_images.shape[0], 28, 28, 1).astype('float32')\n",
        "test_images = test_images.reshape(test_images.shape[0], 28, 28, 1).astype('float32')"
      ],
      "execution_count": null,
      "outputs": []
    },
    {
      "cell_type": "code",
      "metadata": {
        "colab_type": "code",
        "id": "IjnLH5S2CaWx",
        "colab": {}
      },
      "source": [
        "class_names = ['T-shirt/top', 'Trouser', 'Pullover', 'Dress', 'Coat',\n",
        "               'Sandal', 'Shirt', 'Sneaker', 'Bag', 'Ankle boot']"
      ],
      "execution_count": null,
      "outputs": []
    },
    {
      "cell_type": "markdown",
      "metadata": {
        "colab_type": "text",
        "id": "ES6uQoLKCaWr"
      },
      "source": [
        "### 데이터 전처리"
      ]
    },
    {
      "cell_type": "code",
      "metadata": {
        "colab_type": "code",
        "id": "m4VEw8Ud9Quh",
        "colab": {}
      },
      "source": [
        "plt.figure()\n",
        "plt.imshow(np.reshape(train_images[0],(28,28)))\n",
        "plt.colorbar()\n",
        "plt.grid(False)\n",
        "plt.show()"
      ],
      "execution_count": null,
      "outputs": []
    },
    {
      "cell_type": "markdown",
      "metadata": {
        "id": "FmLmyuEVkZTm",
        "colab_type": "text"
      },
      "source": [
        "픽셀 값을 [0,255]에서 [0,1]로 조정"
      ]
    },
    {
      "cell_type": "code",
      "metadata": {
        "colab_type": "code",
        "id": "bW5WzIPlCaWv",
        "colab": {}
      },
      "source": [
        "train_images = train_images / 255.0\n",
        "test_images = test_images / 255.0"
      ],
      "execution_count": null,
      "outputs": []
    },
    {
      "cell_type": "markdown",
      "metadata": {
        "colab_type": "text",
        "id": "Ee638AlnCaWz"
      },
      "source": [
        "Traning Set 25개 이미지, 클래스 이름 출력"
      ]
    },
    {
      "cell_type": "code",
      "metadata": {
        "colab_type": "code",
        "id": "oZTImqg_CaW1",
        "colab": {}
      },
      "source": [
        "plt.figure(figsize=(10,10))\n",
        "for i in range(25):\n",
        "    plt.subplot(5,5,i+1)\n",
        "    plt.xticks([])\n",
        "    plt.yticks([])\n",
        "    plt.grid(False)\n",
        "    plt.imshow(np.reshape(train_images[i],(28,28)), cmap=plt.cm.binary)\n",
        "    plt.xlabel(class_names[train_labels[i]])\n",
        "plt.show()"
      ],
      "execution_count": null,
      "outputs": []
    },
    {
      "cell_type": "markdown",
      "metadata": {
        "colab_type": "text",
        "id": "59veuiEZCaW4"
      },
      "source": [
        "### ResNet 모델 구성"
      ]
    },
    {
      "cell_type": "code",
      "metadata": {
        "id": "2AnWCCmRkZTv",
        "colab_type": "code",
        "colab": {}
      },
      "source": [
        "class ResNet_MNIST():\n",
        "    def build(self, input, num_classes=10):\n",
        "\n",
        "        x = input\n",
        "        # conv1 3x3 (relu, padding=‘same’), (28, 28, 16) batch normalization\n",
        "        x = keras.layers.Conv2D(16, (3, 3), padding='same', activation='relu')(x)\n",
        "        x = keras.layers.BatchNormalization()(x)\n",
        "        assert x.shape[1:] == [28, 28, 16]\n",
        "\n",
        "        # conv2 (28, 28, 16) x 3 conv\n",
        "        x = self.make_layer(x, channels=16, num_blocks=3)\n",
        "        assert x.shape[1:] == [28, 28, 16]\n",
        "        \n",
        "        # conv3 (14, 14, 32) x 3 conv\n",
        "        x = self.make_layer(x, channels=32, num_blocks=3, subsampling=True)\n",
        "        assert x.shape[1:] == [14, 14, 32]\n",
        "        \n",
        "        # conv4 (7, 7, 64) x 3 conv\n",
        "        x = self.make_layer(x, channels=64, num_blocks=3, subsampling=True)\n",
        "        assert x.shape[1:] == [7, 7, 64]\n",
        "        \n",
        "        # dense average pool, fc, softmax\n",
        "        x = keras.layers.GlobalAveragePooling2D()(x)\n",
        "        x = keras.layers.Dense(num_classes, activation='softmax')(x)\n",
        "        assert x.shape[1:] == [10]\n",
        "\n",
        "        return x\n",
        "\n",
        "    # subsampling is performed by conv3_1, conv4_1, and conv5_1 with a stride of 2.\n",
        "    def make_layer(self, x, channels, num_blocks, subsampling=False):\n",
        "        for block_no in range(num_blocks):\n",
        "            # residual block 호출\n",
        "            x = self.residual_block(x, channels, subsampling)\n",
        "            \n",
        "            # 첫번째 residual block에서만 down sampling 수행\n",
        "            if subsampling : subsampling = False\n",
        "                \n",
        "        return x\n",
        "            \n",
        "    def residual_block(self, input, channels, subsampling=False, kernel_size=3):\n",
        "        x = input\n",
        "        \n",
        "        # down sampling 수행 시에는 stride를 2로 설정\n",
        "        first_conv_stride = (2, 2) if subsampling else (1, 1)\n",
        "        \n",
        "        # first 3x3 conv\n",
        "        x = tf.keras.layers.Conv2D(channels, kernel_size, strides=first_conv_stride, padding='SAME')(x)\n",
        "        x = tf.keras.layers.BatchNormalization()(x)\n",
        "        x = tf.keras.layers.ReLU()(x)\n",
        "\n",
        "        # second 3x3 conv\n",
        "        x = tf.keras.layers.Conv2D(channels, kernel_size, strides=(1, 1), padding='SAME')(x)\n",
        "        x = tf.keras.layers.BatchNormalization()(x)\n",
        "        x = x + self.residual_connection(subsampling, input,channels)\n",
        "        \n",
        "        return tf.keras.layers.ReLU()(x)\n",
        "    \n",
        "    def residual_connection(self, subsampling, input, channels):\n",
        "        skip_x = input\n",
        "        if subsampling : # 첫번째 residual block인 경우 크기를 줄여줌\n",
        "            stride = (2, 2)\n",
        "            skip_x = tf.keras.layers.Conv2D(channels, (1, 1), strides=stride, padding='SAME')(skip_x)\n",
        "            skip_x = tf.keras.layers.BatchNormalization()(skip_x)\n",
        "            \n",
        "        return skip_x"
      ],
      "execution_count": null,
      "outputs": []
    },
    {
      "cell_type": "code",
      "metadata": {
        "id": "r5yUxbnakZT0",
        "colab_type": "code",
        "colab": {}
      },
      "source": [
        "input = tf.keras.Input(shape=(28, 28, 1))\n",
        "output = ResNet_MNIST().build(input)\n",
        "\n",
        "model = tf.keras.Model(inputs=input, outputs=output)\n",
        "model.compile(optimizer='adam',\n",
        "              loss='sparse_categorical_crossentropy',\n",
        "              metrics=['accuracy'])\n"
      ],
      "execution_count": null,
      "outputs": []
    },
    {
      "cell_type": "markdown",
      "metadata": {
        "colab_type": "text",
        "id": "qKF6uW-BCaW-"
      },
      "source": [
        "### 모델 훈련"
      ]
    },
    {
      "cell_type": "code",
      "metadata": {
        "colab_type": "code",
        "id": "xvwvpA64CaW_",
        "colab": {}
      },
      "source": [
        "import datetime\n",
        "import os\n",
        "\n",
        "EPOCH = 30\n",
        "batch_size = 32\n",
        "\n",
        "# Tensorboard\n",
        "log_dir= os.path.join(os.getcwd(), 'logs', datetime.datetime.now().strftime(\"%Y%m%d-%H%M%S\"))\n",
        "tensorboard_callback = keras.callbacks.TensorBoard(log_dir=log_dir, histogram_freq=1)\n",
        "\n",
        "# patience 매개변수는 성능 향상을 체크할 에포크 횟수입니다\n",
        "early_stop = keras.callbacks.EarlyStopping(monitor='val_loss', patience=10)\n",
        "\n",
        "model.fit(train_images, train_labels,\n",
        "          batch_size=batch_size,\n",
        "          epochs=EPOCH,\n",
        "          validation_split=0.1,\n",
        "          callbacks=[early_stop,tensorboard_callback])"
      ],
      "execution_count": null,
      "outputs": []
    },
    {
      "cell_type": "markdown",
      "metadata": {
        "id": "j9VqSN8AelYr",
        "colab_type": "text"
      },
      "source": [
        "### Tensorboard Viewer로 확인"
      ]
    },
    {
      "cell_type": "code",
      "metadata": {
        "id": "xnpR3SmceDVQ",
        "colab_type": "code",
        "colab": {}
      },
      "source": [
        "%tensorboard --logdir logs"
      ],
      "execution_count": null,
      "outputs": []
    },
    {
      "cell_type": "markdown",
      "metadata": {
        "colab_type": "text",
        "id": "oEw4bZgGCaXB"
      },
      "source": [
        "### 테스트 성능 측정 (정확도)"
      ]
    },
    {
      "cell_type": "code",
      "metadata": {
        "colab_type": "code",
        "id": "VflXLEeECaXC",
        "colab": {}
      },
      "source": [
        "test_loss, test_acc = model.evaluate(test_images,  test_labels, verbose=2)\n",
        "\n",
        "print('\\n테스트 정확도:', test_acc)"
      ],
      "execution_count": null,
      "outputs": []
    },
    {
      "cell_type": "markdown",
      "metadata": {
        "colab_type": "text",
        "id": "xsoS7CPDCaXH"
      },
      "source": [
        "### 예측 만들기"
      ]
    },
    {
      "cell_type": "code",
      "metadata": {
        "colab_type": "code",
        "id": "Gl91RPhdCaXI",
        "colab": {}
      },
      "source": [
        "predictions = model.predict(test_images)"
      ],
      "execution_count": null,
      "outputs": []
    },
    {
      "cell_type": "code",
      "metadata": {
        "colab_type": "code",
        "id": "DvYmmrpIy6Y1",
        "colab": {}
      },
      "source": [
        "def plot_image(i, predictions_array, true_label, img):\n",
        "  predictions_array, true_label, img = predictions_array[i], true_label[i], img[i]\n",
        "  plt.grid(False)\n",
        "  plt.xticks([])\n",
        "  plt.yticks([])\n",
        "\n",
        "  plt.imshow(np.reshape(img,(28,28)), cmap=plt.cm.binary)\n",
        "\n",
        "  predicted_label = np.argmax(predictions_array)\n",
        "  if predicted_label == true_label:\n",
        "    color = 'blue'\n",
        "  else:\n",
        "    color = 'red'\n",
        "\n",
        "  plt.xlabel(\"{} {:2.0f}% ({})\".format(class_names[predicted_label],\n",
        "                                100*np.max(predictions_array),\n",
        "                                class_names[true_label]),\n",
        "                                color=color)\n",
        "\n",
        "def plot_value_array(i, predictions_array, true_label):\n",
        "  predictions_array, true_label = predictions_array[i], true_label[i]\n",
        "  plt.grid(False)\n",
        "  plt.xticks([])\n",
        "  plt.yticks([])\n",
        "  thisplot = plt.bar(range(10), predictions_array, color=\"#777777\")\n",
        "  plt.ylim([0, 1])\n",
        "  predicted_label = np.argmax(predictions_array)\n",
        "\n",
        "  thisplot[predicted_label].set_color('red')\n",
        "  thisplot[true_label].set_color('blue')"
      ],
      "execution_count": null,
      "outputs": []
    },
    {
      "cell_type": "code",
      "metadata": {
        "colab_type": "code",
        "id": "hQlnbqaw2Qu_",
        "colab": {}
      },
      "source": [
        "# 처음 X 개의 테스트 이미지와 예측 레이블, 진짜 레이블을 출력합니다\n",
        "# 올바른 예측은 파랑색으로 잘못된 예측은 빨강색으로 나타냅니다\n",
        "num_rows = 5\n",
        "num_cols = 3\n",
        "num_images = num_rows*num_cols\n",
        "plt.figure(figsize=(2*2*num_cols, 2*num_rows))\n",
        "for i in range(num_images):\n",
        "  plt.subplot(num_rows, 2*num_cols, 2*i+1)\n",
        "  plot_image(i, predictions, test_labels, test_images)\n",
        "  plt.subplot(num_rows, 2*num_cols, 2*i+2)\n",
        "  plot_value_array(i, predictions, test_labels)\n",
        "plt.show()"
      ],
      "execution_count": null,
      "outputs": []
    }
  ]
}