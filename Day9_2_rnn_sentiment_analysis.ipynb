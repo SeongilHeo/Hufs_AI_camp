{
  "nbformat": 4,
  "nbformat_minor": 0,
  "metadata": {
    "colab": {
      "name": "Day9-2. rnn_sentiment_analysis.ipynb",
      "provenance": [],
      "private_outputs": true,
      "collapsed_sections": [],
      "toc_visible": true,
      "include_colab_link": true
    },
    "kernelspec": {
      "display_name": "TensorFlow CPU",
      "language": "python",
      "name": "tesorflow2.0"
    },
    "language_info": {
      "codemirror_mode": {
        "name": "ipython",
        "version": 3
      },
      "file_extension": ".py",
      "mimetype": "text/x-python",
      "name": "python",
      "nbconvert_exporter": "python",
      "pygments_lexer": "ipython3",
      "version": "3.7.6"
    }
  },
  "cells": [
    {
      "cell_type": "markdown",
      "metadata": {
        "id": "view-in-github",
        "colab_type": "text"
      },
      "source": [
        "<a href=\"https://colab.research.google.com/github/SeongilHeo/hufs_ai_camp/blob/master/Day9_2_rnn_sentiment_analysis.ipynb\" target=\"_parent\"><img src=\"https://colab.research.google.com/assets/colab-badge.svg\" alt=\"Open In Colab\"/></a>"
      ]
    },
    {
      "cell_type": "markdown",
      "metadata": {
        "colab_type": "text",
        "id": "9TnJztDZGw-n"
      },
      "source": [
        "# Text classification with an RNN"
      ]
    },
    {
      "cell_type": "code",
      "metadata": {
        "id": "HKdi7e2BT0MN",
        "colab_type": "code",
        "colab": {}
      },
      "source": [
        "try:\n",
        "  # %tensorflow_version only exists in Colab.\n",
        "  %tensorflow_version 2.x\n",
        "except Exception:\n",
        "  pass"
      ],
      "execution_count": null,
      "outputs": []
    },
    {
      "cell_type": "markdown",
      "metadata": {
        "colab_type": "text",
        "id": "_2VQo4bajwUU"
      },
      "source": [
        "## 텐서플로와 다른 라이브러리 임포트"
      ]
    },
    {
      "cell_type": "code",
      "metadata": {
        "colab_type": "code",
        "id": "z682XYsrjkY9",
        "colab": {}
      },
      "source": [
        "from __future__ import absolute_import, division, print_function, unicode_literals\n",
        "\n",
        "from tensorflow.keras.datasets import imdb\n",
        "\n",
        "import tensorflow as tf\n",
        "import matplotlib.pyplot as plt\n",
        "import numpy as np"
      ],
      "execution_count": null,
      "outputs": []
    },
    {
      "cell_type": "code",
      "metadata": {
        "id": "GI2Vmc-FT0MZ",
        "colab_type": "code",
        "colab": {}
      },
      "source": [
        "# 런타임에서 할당하는데 필요한 양만큼의 GPU 메모리를 할당\n",
        "gpus = tf.config.experimental.list_physical_devices('GPU')\n",
        "if gpus:\n",
        "  try:\n",
        "    tf.config.experimental.set_memory_growth(gpus[0], True)\n",
        "  except RuntimeError as e:\n",
        "    # 프로그램 시작시에 메모리 증가가 설정되어야만 합니다\n",
        "    print(e)"
      ],
      "execution_count": null,
      "outputs": []
    },
    {
      "cell_type": "markdown",
      "metadata": {
        "id": "JSkpuRPTT0Mf",
        "colab_type": "text"
      },
      "source": [
        "#### 데이터 로딩"
      ]
    },
    {
      "cell_type": "code",
      "metadata": {
        "colab_type": "code",
        "id": "SHRwRoP2nVHX",
        "colab": {}
      },
      "source": [
        "(x_train, y_train), (x_test, y_test) = imdb.load_data(num_words=10000)"
      ],
      "execution_count": null,
      "outputs": []
    },
    {
      "cell_type": "code",
      "metadata": {
        "id": "mIXpZZWdT0Mk",
        "colab_type": "code",
        "colab": {}
      },
      "source": [
        "print('훈련용 리뷰 개수 : {}'.format(len(x_train)))\n",
        "print('테스트용 리뷰 개수 : {}'.format(len(x_test)))\n",
        "num_classes = max(y_train) + 1\n",
        "print('카테고리 : {}'.format(num_classes))"
      ],
      "execution_count": null,
      "outputs": []
    },
    {
      "cell_type": "code",
      "metadata": {
        "id": "5t3Zzn7_T0Mn",
        "colab_type": "code",
        "colab": {}
      },
      "source": [
        "x_train.shape"
      ],
      "execution_count": null,
      "outputs": []
    },
    {
      "cell_type": "code",
      "metadata": {
        "id": "KdwsUuxvT0Mr",
        "colab_type": "code",
        "colab": {}
      },
      "source": [
        "print(x_train[0])\n",
        "print(y_train[0])"
      ],
      "execution_count": null,
      "outputs": []
    },
    {
      "cell_type": "markdown",
      "metadata": {
        "id": "mvBqYxvDT0Mw",
        "colab_type": "text"
      },
      "source": [
        "#### 리뷰의 통계정보 확인"
      ]
    },
    {
      "cell_type": "code",
      "metadata": {
        "id": "GHeT20MaT0Mw",
        "colab_type": "code",
        "colab": {}
      },
      "source": [
        "print('리뷰의 최대 길이 : {}'.format(max(len(l) for l in x_train)))\n",
        "print('리뷰의 평균 길이 : {}'.format(sum(map(len, x_train))/len(x_train)))\n",
        "\n",
        "plt.hist([len(s) for s in x_train], bins=50)\n",
        "plt.xlabel('length of samples')\n",
        "plt.ylabel('number of samples')\n",
        "plt.show()"
      ],
      "execution_count": null,
      "outputs": []
    },
    {
      "cell_type": "code",
      "metadata": {
        "id": "4Ccuw0MRT0Mz",
        "colab_type": "code",
        "colab": {}
      },
      "source": [
        "unique_elements, counts_elements = np.unique(y_train, return_counts=True)\n",
        "print(\"각 레이블에 대한 빈도수:\")\n",
        "print(np.asarray((unique_elements, counts_elements)))"
      ],
      "execution_count": null,
      "outputs": []
    },
    {
      "cell_type": "code",
      "metadata": {
        "id": "WX4De0FuT0M6",
        "colab_type": "code",
        "colab": {}
      },
      "source": [
        "word_to_index = imdb.get_word_index()\n",
        "index_to_word={}\n",
        "for key, value in word_to_index.items():\n",
        "    index_to_word[value] = key"
      ],
      "execution_count": null,
      "outputs": []
    },
    {
      "cell_type": "code",
      "metadata": {
        "id": "prx9ns68T0M9",
        "colab_type": "code",
        "colab": {}
      },
      "source": [
        "print('빈도수 상위 1번 단어 : {}'.format(index_to_word[1]))\n",
        "print('빈도수 상위 3941번 단어 : {}'.format(index_to_word[3941]))"
      ],
      "execution_count": null,
      "outputs": []
    },
    {
      "cell_type": "code",
      "metadata": {
        "id": "HrZ262iAT0NA",
        "colab_type": "code",
        "colab": {}
      },
      "source": [
        "print(' '.join([index_to_word[X] for X in x_train[0]]))"
      ],
      "execution_count": null,
      "outputs": []
    },
    {
      "cell_type": "markdown",
      "metadata": {
        "id": "0duc4uqjT0ND",
        "colab_type": "text"
      },
      "source": [
        "### 모델 훈련 및 검증"
      ]
    },
    {
      "cell_type": "markdown",
      "metadata": {
        "id": "XTiwYmirT0ND",
        "colab_type": "text"
      },
      "source": [
        "#### 훈련을 위한 데이터 선택 및 전처리"
      ]
    },
    {
      "cell_type": "code",
      "metadata": {
        "id": "4L5ecYpJT0NE",
        "colab_type": "code",
        "colab": {}
      },
      "source": [
        "TRAIN_VOCABULARY=5000\n",
        "(x_train, y_train), (x_test, y_test) = imdb.load_data(num_words=TRAIN_VOCABULARY)"
      ],
      "execution_count": null,
      "outputs": []
    },
    {
      "cell_type": "code",
      "metadata": {
        "id": "f4NH5IyuT0NI",
        "colab_type": "code",
        "colab": {}
      },
      "source": [
        "max_time_steps=500\n",
        "x_train = tf.keras.preprocessing.sequence.pad_sequences(x_train, maxlen=max_time_steps)\n",
        "x_test = tf.keras.preprocessing.sequence.pad_sequences(x_test, maxlen=max_time_steps)"
      ],
      "execution_count": null,
      "outputs": []
    },
    {
      "cell_type": "markdown",
      "metadata": {
        "id": "EXwQIDIZT0NL",
        "colab_type": "text"
      },
      "source": [
        "#### 모델 정의"
      ]
    },
    {
      "cell_type": "code",
      "metadata": {
        "id": "9SNz-1GCT0NL",
        "colab_type": "code",
        "colab": {}
      },
      "source": [
        "def build_model(vocab_size, embedding_dim, rnn_units, batch_size):\n",
        "  model = tf.keras.Sequential([\n",
        "    tf.keras.layers.Embedding(vocab_size, embedding_dim),\n",
        "    tf.keras.layers.LSTM(rnn_units),\n",
        "    tf.keras.layers.Dense(1, activation='sigmoid')\n",
        "  ])\n",
        "  return model"
      ],
      "execution_count": null,
      "outputs": []
    },
    {
      "cell_type": "markdown",
      "metadata": {
        "id": "umm2Mr0xT0NO",
        "colab_type": "text"
      },
      "source": [
        "#### 모델 생성"
      ]
    },
    {
      "cell_type": "code",
      "metadata": {
        "id": "r4iz1wuPT0NP",
        "colab_type": "code",
        "colab": {}
      },
      "source": [
        "embedding_dim = 120\n",
        "rnn_units = 120\n",
        "BATCH_SIZE=64\n",
        "\n",
        "model = build_model(\n",
        "  vocab_size = TRAIN_VOCABULARY,\n",
        "  embedding_dim=embedding_dim,\n",
        "  rnn_units=rnn_units,\n",
        "  batch_size=BATCH_SIZE)"
      ],
      "execution_count": null,
      "outputs": []
    },
    {
      "cell_type": "code",
      "metadata": {
        "id": "qmi-ckrRT0NS",
        "colab_type": "code",
        "colab": {}
      },
      "source": [
        "model.summary()"
      ],
      "execution_count": null,
      "outputs": []
    },
    {
      "cell_type": "markdown",
      "metadata": {
        "id": "pxd-jJ80T0NV",
        "colab_type": "text"
      },
      "source": [
        "#### 모델 훈련 설정"
      ]
    },
    {
      "cell_type": "code",
      "metadata": {
        "id": "-KDzkih6T0NW",
        "colab_type": "code",
        "colab": {}
      },
      "source": [
        "model.compile(loss=tf.keras.losses.BinaryCrossentropy(from_logits=False),\n",
        "              optimizer=tf.keras.optimizers.Adam(1e-4),\n",
        "              metrics=['accuracy']) "
      ],
      "execution_count": null,
      "outputs": []
    },
    {
      "cell_type": "markdown",
      "metadata": {
        "id": "CZbntkd-T0NZ",
        "colab_type": "text"
      },
      "source": [
        "#### 모델 훈련"
      ]
    },
    {
      "cell_type": "code",
      "metadata": {
        "scrolled": true,
        "id": "L_CDjn5MT0Na",
        "colab_type": "code",
        "colab": {}
      },
      "source": [
        "EPOCHS = 10\n",
        "history = model.fit(x_train, y_train, epochs=EPOCHS, validation_split=0.1)"
      ],
      "execution_count": null,
      "outputs": []
    },
    {
      "cell_type": "markdown",
      "metadata": {
        "id": "Oc02VQM8T0Nc",
        "colab_type": "text"
      },
      "source": [
        "#### 모델 평가"
      ]
    },
    {
      "cell_type": "code",
      "metadata": {
        "id": "HYQzJLQNT0Nd",
        "colab_type": "code",
        "colab": {}
      },
      "source": [
        "test_loss, test_acc = model.evaluate(x_test, y_test)\n",
        "print('Test Loss: {}'.format(test_loss))\n",
        "print('Test Accuracy: {}'.format(test_acc)) "
      ],
      "execution_count": null,
      "outputs": []
    },
    {
      "cell_type": "code",
      "metadata": {
        "id": "n8pjVq3iT0Nf",
        "colab_type": "code",
        "colab": {}
      },
      "source": [
        "def plot_graphs(history, metric):\n",
        "  plt.plot(history.history[metric])\n",
        "  plt.plot(history.history['val_'+metric], '')\n",
        "  plt.xlabel(\"Epochs\")\n",
        "  plt.ylabel(metric)\n",
        "  plt.legend([metric, 'val_'+metric])\n",
        "  plt.show()\n",
        "    \n",
        "plot_graphs(history, 'accuracy')\n",
        "plot_graphs(history, 'loss')"
      ],
      "execution_count": null,
      "outputs": []
    },
    {
      "cell_type": "markdown",
      "metadata": {
        "id": "L-49YKhYT0Ni",
        "colab_type": "text"
      },
      "source": [
        "#### 모델 테스트"
      ]
    },
    {
      "cell_type": "code",
      "metadata": {
        "id": "5EkWEpuRT0Ni",
        "colab_type": "code",
        "colab": {}
      },
      "source": [
        "def sample_predict(pred_text):\n",
        "  list_of_words = tf.keras.preprocessing.text.text_to_word_sequence(\n",
        "                    pred_text,\n",
        "                    filters='!\"#$%&()*+,-./:;<=>?@[\\\\]^_`{|}~\\t\\n',\n",
        "                    lower=True,\n",
        "                    split=' '\n",
        "                )\n",
        "\n",
        "\n",
        "  encoded_sample = [word_to_index[x] for x in list_of_words]\n",
        "  x_pred = tf.expand_dims(encoded_sample, 0)\n",
        "\n",
        "  predictions = model.predict(x_pred)\n",
        "\n",
        "  return (predictions)"
      ],
      "execution_count": null,
      "outputs": []
    },
    {
      "cell_type": "code",
      "metadata": {
        "id": "BD0OXlaqT0Nl",
        "colab_type": "code",
        "colab": {}
      },
      "source": [
        "sample_pred_text = ('The movie was cool. The animation and the graphics '\n",
        "                    'were out of this world. I would recommend this movie.')\n",
        "predictions = sample_predict(sample_pred_text)\n",
        "print(predictions)"
      ],
      "execution_count": null,
      "outputs": []
    }
  ]
}